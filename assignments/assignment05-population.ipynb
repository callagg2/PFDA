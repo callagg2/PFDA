{
 "cells": [
  {
   "cell_type": "code",
   "execution_count": 1,
   "id": "80bd34d2",
   "metadata": {},
   "outputs": [],
   "source": [
    "# I will want pandas to manipulate my data\n",
    "import pandas as pd \n",
    "# I will want numpy for calculating the descriptive statistics\n",
    "import numpy as np"
   ]
  },
  {
   "cell_type": "markdown",
   "id": "54b13599",
   "metadata": {},
   "source": [
    "# Reading in the Data\n",
    "We will read in the data in a the form of a CSV file from the CSO."
   ]
  },
  {
   "cell_type": "code",
   "execution_count": 2,
   "id": "bdbec2da",
   "metadata": {},
   "outputs": [
    {
     "name": "stdout",
     "output_type": "stream",
     "text": [
      "   STATISTIC Statistic Label  TLIST(A1)  CensusYear C02199V02655         Sex  \\\n",
      "0  FY006AC01      Population       2022        2022            -  Both sexes   \n",
      "1  FY006AC01      Population       2022        2022            -  Both sexes   \n",
      "2  FY006AC01      Population       2022        2022            -  Both sexes   \n",
      "3  FY006AC01      Population       2022        2022            -  Both sexes   \n",
      "4  FY006AC01      Population       2022        2022            -  Both sexes   \n",
      "\n",
      "  C02076V03371 Single Year of Age                          C03789V04537  \\\n",
      "0            -           All ages                                   IE0   \n",
      "1            -           All ages  2ae19629-1492-13a3-e055-000000000001   \n",
      "2            -           All ages  2ae19629-1433-13a3-e055-000000000001   \n",
      "3            -           All ages  2ae19629-149f-13a3-e055-000000000001   \n",
      "4            -           All ages  2ae19629-14a0-13a3-e055-000000000001   \n",
      "\n",
      "                 Administrative Counties    UNIT    VALUE  \n",
      "0                                Ireland  Number  5149139  \n",
      "1                  Carlow County Council  Number    61968  \n",
      "2                    Dublin City Council  Number   592713  \n",
      "3  Dún Laoghaire Rathdown County Council  Number   233860  \n",
      "4                  Fingal County Council  Number   330506  \n",
      "\n"
     ]
    }
   ],
   "source": [
    "# The data is sourced from the Central Statistics Office (CSO) of Ireland\n",
    "# The dataset is titled \"Population by Age Group and Sex\"\n",
    "# The data is available in CSV format via the CSO API\n",
    "url = \"https://ws.cso.ie/public/api.restful/PxStat.Data.Cube_API.ReadDataset/FY006A/CSV/1.0/en\"\n",
    "\n",
    "# read in the data from the csv file into a pandas DataFrame\n",
    "df = pd.read_csv(url)\n",
    "\n",
    "# lets take a look at the first few rows of the DataFrame\n",
    "print(f\"{df.head()}\\n\")"
   ]
  },
  {
   "cell_type": "markdown",
   "id": "2131a430",
   "metadata": {},
   "source": [
    "# Cleaning/Simplifying the data\n",
    "While the data might be clean, there may be a lot of superfluous information in it that we can remove to simplify things."
   ]
  },
  {
   "cell_type": "code",
   "execution_count": 3,
   "id": "781ab938",
   "metadata": {},
   "outputs": [],
   "source": [
    "# we only want data for Ireland as a whole - not all the administrative counties, \n",
    "# so let's filter the DataFrame to only include rows \n",
    "# where the Administrative Counties column is equal to \"Ireland\"\n",
    "# We set our dataframe \"df\" equal that contains a dataframe comprising of data where for every row, \n",
    "# the entry for administrative county is Ireland\n",
    "df=df[df[\"Administrative Counties\"]== \"Ireland\"]\n",
    "df.to_csv(\"gender_population_for_analysis.csv\")\n"
   ]
  },
  {
   "cell_type": "code",
   "execution_count": 4,
   "id": "8889b550",
   "metadata": {},
   "outputs": [
    {
     "name": "stdout",
     "output_type": "stream",
     "text": [
      "['STATISTIC', 'Statistic Label', 'TLIST(A1)', 'CensusYear', 'C02199V02655', 'Sex', 'C02076V03371', 'Single Year of Age', 'C03789V04537', 'Administrative Counties', 'UNIT', 'VALUE']\n",
      "\n"
     ]
    }
   ],
   "source": [
    "# Lets view all the column headers to see what columns we can drop\n",
    "headers = df.columns.tolist()\n",
    "print(f\"{headers}\\n\")"
   ]
  },
  {
   "cell_type": "code",
   "execution_count": 5,
   "id": "ab811cbf",
   "metadata": {},
   "outputs": [
    {
     "name": "stdout",
     "output_type": "stream",
     "text": [
      "['Sex', 'Single Year of Age', 'VALUE']\n",
      "\n"
     ]
    }
   ],
   "source": [
    "# so there are quite a few columns we don't need for our analysis, so let's drop them\n",
    "\n",
    "# first we create a list of the columns to drop, \n",
    "# we can drop administrative counties now because we have already filterd the data for just Ireland\n",
    "drop_col_list = [\"STATISTIC\",\"Statistic Label\",\"TLIST(A1)\",\"CensusYear\",\"C02199V02655\",\"C02076V03371\",\"C03789V04537\",'Administrative Counties', \"UNIT\"]\n",
    "# then we feed the list of columns to drop into the pandas drop() method, in place means remove the data from the existing dataframe\n",
    "# we could alternatively have created a new dataframe and set it equal to the columns that we only want to be left\n",
    "df.drop(columns=drop_col_list, inplace=True)\n",
    "# let's view the column headers again to confirm the columns were dropped \n",
    "headers = df.columns.tolist()\n",
    "print(f\"{headers}\\n\")\n"
   ]
  },
  {
   "cell_type": "code",
   "execution_count": 6,
   "id": "0df4f2b5",
   "metadata": {},
   "outputs": [
    {
     "name": "stdout",
     "output_type": "stream",
     "text": [
      "            Sex Single Year of Age    VALUE\n",
      "0    Both sexes           All ages  5149139\n",
      "32   Both sexes       Under 1 year    57796\n",
      "64   Both sexes             1 year    56420\n",
      "96   Both sexes            2 years    59210\n",
      "128  Both sexes            3 years    60484\n"
     ]
    }
   ],
   "source": [
    "# let's have a quick look at the first few rows of the cleaned DataFrame\n",
    "print(f\"{df.head()}\")\n",
    "df.to_csv(\"gender_population_for_analysis.csv\")  "
   ]
  },
  {
   "cell_type": "code",
   "execution_count": 7,
   "id": "03b35a9c",
   "metadata": {},
   "outputs": [
    {
     "name": "stdout",
     "output_type": "stream",
     "text": [
      "       Sex Single Year of Age    VALUE\n",
      "3264  Male           All ages  2544549\n",
      "3296  Male       Under 1 year    29610\n",
      "3328  Male             1 year    28875\n",
      "3360  Male            2 years    30236\n",
      "3392  Male            3 years    31001\n"
     ]
    }
   ],
   "source": [
    "# From our gender_population_for_analysis.csv file, we have three entries for Sex, \n",
    "# (both sexes, male, and female) but we only want male and female,\n",
    "# so let's remove both sexes from the DataFrame \n",
    "df = df[df[\"Sex\"]!=\"Both sexes\"]\n",
    "# just to see what the first few rows look like now\n",
    "print(f\"{df.head()}\")\n",
    "#now to view that our CSV file does not include both sexes entries\n",
    "df.to_csv(\"gender_population_for_analysis.csv\")  "
   ]
  },
  {
   "cell_type": "code",
   "execution_count": 8,
   "id": "7c140352",
   "metadata": {},
   "outputs": [
    {
     "name": "stdout",
     "output_type": "stream",
     "text": [
      "       Sex Single Year of Age  VALUE\n",
      "3296  Male       Under 1 year  29610\n",
      "3328  Male             1 year  28875\n",
      "3360  Male            2 years  30236\n",
      "3392  Male            3 years  31001\n",
      "3424  Male            4 years  31686\n"
     ]
    }
   ],
   "source": [
    "## From our gender_population_for_analysis.csv file, \n",
    "# we have entries for \"All ages\" which we also do not need for our analysis\n",
    "# so let's remove all ages from the DataFrame \n",
    "df = df[df[\"Single Year of Age\"]!=\"All ages\"]\n",
    "# just to see what the first few rows look like now\n",
    "print(f\"{df.head()}\")\n",
    "#now to view that our CSV file does not include all ages\n",
    "df.to_csv(\"gender_population_for_analysis.csv\")  "
   ]
  },
  {
   "cell_type": "markdown",
   "id": "36509321",
   "metadata": {},
   "source": [
    "# Reformating the Data\n",
    "There are some entries in the data that make it difficult for us to work with,\n",
    "so let's simplify things for ourselves"
   ]
  },
  {
   "cell_type": "code",
   "execution_count": 9,
   "id": "711a6717",
   "metadata": {},
   "outputs": [
    {
     "name": "stdout",
     "output_type": "stream",
     "text": [
      "         Sex  Single Year of Age  VALUE\n",
      "9632  Female                  96    956\n",
      "9664  Female                  97    732\n",
      "9696  Female                  98    492\n",
      "9728  Female                  99    336\n",
      "9760  Female                 100    584\n",
      "\n"
     ]
    }
   ],
   "source": [
    "# we also don't want under 1 year of age, so let's convert that to 0 \n",
    "df[\"Single Year of Age\"] = df[\"Single Year of Age\"].str.replace(\"Under 1 year\",\"0\")\n",
    "\n",
    "# we also don't want over 100 year of age, so let's convert that to 100 \n",
    "df[\"Single Year of Age\"] = df[\"Single Year of Age\"].str.replace(\"100 years and over\",\"100\")\n",
    "\n",
    "# we also don't want the word years, so let's remove text in that series altogether\n",
    "df[\"Single Year of Age\"] = df[\"Single Year of Age\"].str.replace(\"\\D\", \"\", regex=True)\n",
    "\n",
    "# now we can convert the Single Year of Age column to integer data type\n",
    "df[\"Single Year of Age\"] = df[\"Single Year of Age\"].astype(\"Int64\")\n",
    "\n",
    "# and likewise with the VALUE column \n",
    "df[\"VALUE\"] = df[\"VALUE\"].astype(\"Int64\")\n",
    "\n",
    "print(f\"{df.tail()}\\n\")\n",
    "\n",
    "#now to view that our CSV file shows cleaned age data\n",
    "df.to_csv(\"gender_population_for_analysis.csv\") \n"
   ]
  },
  {
   "cell_type": "code",
   "execution_count": 10,
   "id": "eb70dfea",
   "metadata": {},
   "outputs": [
    {
     "name": "stdout",
     "output_type": "stream",
     "text": [
      "['Sex', 'Single Year of Age', 'VALUE']\n",
      "\n"
     ]
    }
   ],
   "source": [
    "# just another confirmation of the columns we have remaining\n",
    "headers = df.columns.tolist()\n",
    "print(f\"{headers}\\n\")\n"
   ]
  },
  {
   "cell_type": "markdown",
   "id": "df37b714",
   "metadata": {},
   "source": [
    "# Create a Pivot Table\n",
    "Now that we have the data simplified down to Single Year of Age and Gender(s), \n",
    "and values each combination of age and gender, putting it in a table allows us to work with the data"
   ]
  },
  {
   "cell_type": "code",
   "execution_count": 11,
   "id": "d2f79af4",
   "metadata": {},
   "outputs": [
    {
     "name": "stdout",
     "output_type": "stream",
     "text": [
      "Sex                  Female     Male\n",
      "Single Year of Age                  \n",
      "0                   28186.0  29610.0\n",
      "1                   27545.0  28875.0\n",
      "2                   28974.0  30236.0\n",
      "3                   29483.0  31001.0\n",
      "4                   29819.0  31686.0\n",
      "\n"
     ]
    }
   ],
   "source": [
    "# Let's create a pivot table from the cleaned DataFrame for our analysis\n",
    "df_analysis = pd.pivot_table(df, \"VALUE\",\"Single Year of Age\",\"Sex\")\n",
    "\n",
    "# let's see what the first few rows of the analysis DataFrame look like\n",
    "print(f\"{df_analysis.head(5)}\\n\")\n",
    "\n",
    "#now to view that our CSV file shows cleaned age data\n",
    "df_analysis.to_csv(\"gender_population_for_analysis.csv\")\n",
    "\n",
    "# Note Single Year of Age is now our index, it is not a column,\n",
    "# this is something we need to be wary of later when performing calculations between columns.\n"
   ]
  },
  {
   "cell_type": "markdown",
   "id": "4cd3eb42",
   "metadata": {},
   "source": [
    "\n",
    "Normally, if we calculate the mean of a series of figures we just sum them and divide by the number of observations.<br/> \n",
    "But, in this case, in our population sample, the people are not evenly distributed across every single age.<br/>\n",
    "\n",
    "We must weight each age by the number of people at that age. This is why we use the weighted mean.<br/>\n",
    "The same is the case for the weighted variance and standard deviation."
   ]
  },
  {
   "cell_type": "markdown",
   "id": "97ea7cb2",
   "metadata": {},
   "source": [
    "# Weighted Mean (Average)\n",
    "\n",
    "The formula for calculating the weighted mean is as follows:<br/>\n",
    "<img src=\"https:\\\\www.mathcracker.com\\images\\legacy\\weighted-average-calculator.png\" /><br/>\n",
    "\n",
    "In our case, the weights (w) are the number of people at each age while the values (x) are all the ages. <br/>\n",
    "So, the weighted mean in our case is: sum (each age * female population at that age) / sum (female population)"
   ]
  },
  {
   "cell_type": "code",
   "execution_count": 12,
   "id": "b0cfc7bd",
   "metadata": {},
   "outputs": [
    {
     "ename": "KeyError",
     "evalue": "'Sex'",
     "output_type": "error",
     "traceback": [
      "\u001b[31m---------------------------------------------------------------------------\u001b[39m",
      "\u001b[31mKeyError\u001b[39m                                  Traceback (most recent call last)",
      "\u001b[36mFile \u001b[39m\u001b[32m~/Data_Analytics/Anaconda/lib/python3.13/site-packages/pandas/core/indexes/base.py:3812\u001b[39m, in \u001b[36mIndex.get_loc\u001b[39m\u001b[34m(self, key)\u001b[39m\n\u001b[32m   3811\u001b[39m \u001b[38;5;28;01mtry\u001b[39;00m:\n\u001b[32m-> \u001b[39m\u001b[32m3812\u001b[39m     \u001b[38;5;28;01mreturn\u001b[39;00m \u001b[38;5;28;43mself\u001b[39;49m\u001b[43m.\u001b[49m\u001b[43m_engine\u001b[49m\u001b[43m.\u001b[49m\u001b[43mget_loc\u001b[49m\u001b[43m(\u001b[49m\u001b[43mcasted_key\u001b[49m\u001b[43m)\u001b[49m\n\u001b[32m   3813\u001b[39m \u001b[38;5;28;01mexcept\u001b[39;00m \u001b[38;5;167;01mKeyError\u001b[39;00m \u001b[38;5;28;01mas\u001b[39;00m err:\n",
      "\u001b[36mFile \u001b[39m\u001b[32mpandas/_libs/index.pyx:167\u001b[39m, in \u001b[36mpandas._libs.index.IndexEngine.get_loc\u001b[39m\u001b[34m()\u001b[39m\n",
      "\u001b[36mFile \u001b[39m\u001b[32mpandas/_libs/index.pyx:196\u001b[39m, in \u001b[36mpandas._libs.index.IndexEngine.get_loc\u001b[39m\u001b[34m()\u001b[39m\n",
      "\u001b[36mFile \u001b[39m\u001b[32mpandas/_libs/hashtable_class_helper.pxi:7088\u001b[39m, in \u001b[36mpandas._libs.hashtable.PyObjectHashTable.get_item\u001b[39m\u001b[34m()\u001b[39m\n",
      "\u001b[36mFile \u001b[39m\u001b[32mpandas/_libs/hashtable_class_helper.pxi:7096\u001b[39m, in \u001b[36mpandas._libs.hashtable.PyObjectHashTable.get_item\u001b[39m\u001b[34m()\u001b[39m\n",
      "\u001b[31mKeyError\u001b[39m: 'Sex'",
      "\nThe above exception was the direct cause of the following exception:\n",
      "\u001b[31mKeyError\u001b[39m                                  Traceback (most recent call last)",
      "\u001b[36mCell\u001b[39m\u001b[36m \u001b[39m\u001b[32mIn[12]\u001b[39m\u001b[32m, line 9\u001b[39m\n\u001b[32m      5\u001b[39m gender = headers[\u001b[32m0\u001b[39m]\n\u001b[32m      6\u001b[39m \u001b[38;5;66;03m# We are setting our variable gender equal to all the values in the female column\u001b[39;00m\n\u001b[32m      7\u001b[39m \u001b[38;5;66;03m# Using numpy, we give it the column containing the ages, that is, the index as X\u001b[39;00m\n\u001b[32m      8\u001b[39m \u001b[38;5;66;03m# and we tell numpy that our weights w are the value in the column 0 of the dataframe df.\u001b[39;00m\n\u001b[32m----> \u001b[39m\u001b[32m9\u001b[39m weighted_mean_female= np.average(df_analysis.index, weights=\u001b[43mdf_analysis\u001b[49m\u001b[43m[\u001b[49m\u001b[43mgender\u001b[49m\u001b[43m]\u001b[49m)\n\u001b[32m     10\u001b[39m \u001b[38;5;28mprint\u001b[39m(\u001b[33mf\u001b[39m\u001b[33m\"\u001b[39m\u001b[33mThe weighted mean age of \u001b[39m\u001b[38;5;132;01m{\u001b[39;00mgender\u001b[38;5;132;01m}\u001b[39;00m\u001b[33ms is \u001b[39m\u001b[38;5;132;01m{\u001b[39;00m\u001b[38;5;28mround\u001b[39m(weighted_mean_female,\u001b[32m1\u001b[39m)\u001b[38;5;132;01m}\u001b[39;00m\u001b[33m years.\u001b[39m\u001b[38;5;130;01m\\n\u001b[39;00m\u001b[33m\"\u001b[39m)\n\u001b[32m     12\u001b[39m gender = headers[\u001b[32m1\u001b[39m]\n",
      "\u001b[36mFile \u001b[39m\u001b[32m~/Data_Analytics/Anaconda/lib/python3.13/site-packages/pandas/core/frame.py:4113\u001b[39m, in \u001b[36mDataFrame.__getitem__\u001b[39m\u001b[34m(self, key)\u001b[39m\n\u001b[32m   4111\u001b[39m \u001b[38;5;28;01mif\u001b[39;00m \u001b[38;5;28mself\u001b[39m.columns.nlevels > \u001b[32m1\u001b[39m:\n\u001b[32m   4112\u001b[39m     \u001b[38;5;28;01mreturn\u001b[39;00m \u001b[38;5;28mself\u001b[39m._getitem_multilevel(key)\n\u001b[32m-> \u001b[39m\u001b[32m4113\u001b[39m indexer = \u001b[38;5;28;43mself\u001b[39;49m\u001b[43m.\u001b[49m\u001b[43mcolumns\u001b[49m\u001b[43m.\u001b[49m\u001b[43mget_loc\u001b[49m\u001b[43m(\u001b[49m\u001b[43mkey\u001b[49m\u001b[43m)\u001b[49m\n\u001b[32m   4114\u001b[39m \u001b[38;5;28;01mif\u001b[39;00m is_integer(indexer):\n\u001b[32m   4115\u001b[39m     indexer = [indexer]\n",
      "\u001b[36mFile \u001b[39m\u001b[32m~/Data_Analytics/Anaconda/lib/python3.13/site-packages/pandas/core/indexes/base.py:3819\u001b[39m, in \u001b[36mIndex.get_loc\u001b[39m\u001b[34m(self, key)\u001b[39m\n\u001b[32m   3814\u001b[39m     \u001b[38;5;28;01mif\u001b[39;00m \u001b[38;5;28misinstance\u001b[39m(casted_key, \u001b[38;5;28mslice\u001b[39m) \u001b[38;5;129;01mor\u001b[39;00m (\n\u001b[32m   3815\u001b[39m         \u001b[38;5;28misinstance\u001b[39m(casted_key, abc.Iterable)\n\u001b[32m   3816\u001b[39m         \u001b[38;5;129;01mand\u001b[39;00m \u001b[38;5;28many\u001b[39m(\u001b[38;5;28misinstance\u001b[39m(x, \u001b[38;5;28mslice\u001b[39m) \u001b[38;5;28;01mfor\u001b[39;00m x \u001b[38;5;129;01min\u001b[39;00m casted_key)\n\u001b[32m   3817\u001b[39m     ):\n\u001b[32m   3818\u001b[39m         \u001b[38;5;28;01mraise\u001b[39;00m InvalidIndexError(key)\n\u001b[32m-> \u001b[39m\u001b[32m3819\u001b[39m     \u001b[38;5;28;01mraise\u001b[39;00m \u001b[38;5;167;01mKeyError\u001b[39;00m(key) \u001b[38;5;28;01mfrom\u001b[39;00m\u001b[38;5;250m \u001b[39m\u001b[34;01merr\u001b[39;00m\n\u001b[32m   3820\u001b[39m \u001b[38;5;28;01mexcept\u001b[39;00m \u001b[38;5;167;01mTypeError\u001b[39;00m:\n\u001b[32m   3821\u001b[39m     \u001b[38;5;66;03m# If we have a listlike key, _check_indexing_error will raise\u001b[39;00m\n\u001b[32m   3822\u001b[39m     \u001b[38;5;66;03m#  InvalidIndexError. Otherwise we fall through and re-raise\u001b[39;00m\n\u001b[32m   3823\u001b[39m     \u001b[38;5;66;03m#  the TypeError.\u001b[39;00m\n\u001b[32m   3824\u001b[39m     \u001b[38;5;28mself\u001b[39m._check_indexing_error(key)\n",
      "\u001b[31mKeyError\u001b[39m: 'Sex'"
     ]
    }
   ],
   "source": [
    "# In our dataframe, we have ages (0-100) as our index and then two columns, female and male, \n",
    "# with the numbers of males and female at each age.\n",
    "\n",
    "#Let's assume we take the first column, females at each age, in our dataframe, that is column 0.\n",
    "gender = headers[0]\n",
    "# We are setting our variable gender equal to all the values in the female column\n",
    "# Using numpy, we give it the column containing the ages, that is, the index as X\n",
    "# and we tell numpy that our weights w are the value in the column 0 of the dataframe df.\n",
    "weighted_mean_female= np.average(df_analysis.index, weights=df_analysis[gender])\n",
    "print(f\"The weighted mean age of {gender}s is {round(weighted_mean_female,1)} years.\\n\")\n",
    "\n",
    "gender = headers[1]\n",
    "weighted_mean_male= np.average(df_analysis.index, weights=df_analysis[gender])\n",
    "print(f\"The weighted mean age of {gender}s is {round(weighted_mean_male,1)} years.\\n\")\n",
    "\n",
    "# Their averages are quite close, only one year between them."
   ]
  },
  {
   "cell_type": "markdown",
   "id": "cc38d663",
   "metadata": {},
   "source": [
    "# Weighted Median\n",
    "\n",
    "While often confused with the mean, the median is what the mean would be <br/>\n",
    "if it was adjusted for certain values skewing the overall dataset.<br/>\n",
    "It does this by splitting the data equally in two in terms of numbers of observations, not size, \n",
    "and then focuses on what the mid-point is, it's one value if we have an odd number of observations <br/>   \n",
    "because we can split the data in even numbers of observations around that value.<br/>\n",
    "But, the median can be equal to the average of two values if we have an even number of observations <br/>\n",
    "because we can have an equal number of observations either side of those two values."
   ]
  },
  {
   "cell_type": "code",
   "execution_count": null,
   "id": "1d815c88",
   "metadata": {},
   "outputs": [],
   "source": [
    "# First, we must sort the data. In our case, the data is already sorted by age (from 0 up to 100) \n",
    "# If it wasn't already sorted, we might sort it as follows.\n",
    "df.sort_values('Single Year of Age', inplace=True)\n",
    "\n",
    "# We must create a series called the cumulative sum, and incrementally add up all the values at each age\n",
    "# Then we can simply halve that, and find the index of that middle value\n",
    "\n",
    "#Let's assume we take the first column, female\n",
    "gender = headers[0]\n",
    "cumsum_female = df_analysis[gender].cumsum()\n",
    "cutoff_female = df_analysis[gender].sum() / 2.0\n",
    "\n",
    "# So, adding up all the observations at each age tells us there are 2,604,590 women\n",
    "#print(f\"The cumulative sum is: {cumsum_female}\\n\")\n",
    "# and the woman in the middle is in the 1,302,295th position \n",
    "#print(f\"The middle index is: {cutoff_female}\\n\")\n",
    "\n",
    "# To find where that woman in the 1,302,295th position is,\n",
    "# starting at age 0, we add up the numbers of observations at each age until we reach the 1,302,295th woman.\n",
    "# This happens where the cumulative sum is greater than or equal to the cutoff (middle index)\n",
    "# To find the index of the first value where this is true \n",
    "# we take out dataframe,select the relevant gender column and then the row \n",
    "# where the cumulative sum which we calcualted above is greater than the middle figure which we calculated above.\n",
    "median_female = df_analysis[gender][cumsum_female >= cutoff_female].index[0]\n",
    "\n",
    "# Alternatively, becuase Single Year of Age is our index, we could reset it as a column\n",
    "# df_analysis=df_analysis.reset_index()\n",
    "# then find the age index at that 1,302,295th position as follows\n",
    "#median = df_analysis[\"Single Year of Age\"][cumsum_female >= cutoff_female].iloc[0]\n",
    "# just to see how the dataframe looks with the reset index\n",
    "#print(f\"{df_analysis.head()}\")\n",
    "\n",
    "print(f\"The weighted median age of {gender}s is {median_female}\\n\")\n",
    "\n",
    "gender = headers[1]\n",
    "cumsum_male = df_analysis[gender].cumsum()\n",
    "cutoff_male = df_analysis[gender].sum() / 2.0\n",
    "#print(f\"The cumulative sum is: {cumsum_male}\\n\")\n",
    "#print(f\"The middle index is: {cutoff_male}\\n\")\n",
    "\n",
    "median_male = df_analysis[gender][cumsum_male >= cutoff_male].index[0]\n",
    "\n",
    "print(f\"The weighted median age of {gender}s is {median_male}\\n\")"
   ]
  },
  {
   "cell_type": "markdown",
   "id": "ad743e5e",
   "metadata": {},
   "source": [
    "The median ages of males and females are very close to one another, and indeed are both very close to their respective means.<br/>\n",
    "This is intuitive because it is unlikely that we would abnormally large numbers of observations at either end of the age scale."
   ]
  },
  {
   "cell_type": "markdown",
   "id": "66adf83d",
   "metadata": {},
   "source": [
    "## Weighted Mode\n",
    "\n",
    "The mode is the most popular occurance of a variable. In this context, what age has the highest numbers of observations.<br/>\n",
    "If we think about this, we are simply looking for the maximum value in the column, and then the age index that maximum occurs.\n"
   ]
  },
  {
   "cell_type": "markdown",
   "id": "b15d2033",
   "metadata": {},
   "source": [
    "Note that I used the max() function in pandas to calculate the maximum of the relevant gender column. \n",
    "Then I went looking inside the dataframe df_analysis, under the relevant gender column,\n",
    "until that part of the dataframe was equal to the highest_observation. In effect, I masked all other values as false.\n",
    "\n",
    "Another alternative I found online was to use [idxmax()](https://pandas.pydata.org/pandas-docs/stable/reference/api/pandas.DataFrame.idxmax.html) \n",
    "I showed how to use that also."
   ]
  },
  {
   "cell_type": "code",
   "execution_count": null,
   "id": "23716da9",
   "metadata": {},
   "outputs": [],
   "source": [
    "gender = headers[0]\n",
    "highest_observations= df_analysis[gender].max()\n",
    "print(f\"The highest number of observations in any one female age was: {highest_observations}\\n\")\n",
    "\n",
    "# let's look in the df_analysis dataframe, under the relevant gender column where that value occurs\n",
    "# and at what index ( that is, age)\n",
    "mode_female = df_analysis[gender][df_analysis[gender]==highest_observations].index[0]\n",
    "print(f\"The weighted mode age of {gender} is {mode_female}\\n\")\n",
    "\n",
    "# althernaive method\n",
    "#mode_female = df_analysis[gender].idxmax()\n",
    "#print(f\"The weighted mode age of {gender} is {mode_female}\\n\")\n",
    "\n",
    "\n",
    "gender = headers[1]\n",
    "highest_observations= df_analysis[gender].max()\n",
    "print(f\"The highest number of observations in any one male age was: {highest_observations}\\n\")\n",
    "\n",
    "# let's look in the df_analysis dataframe, under the relevant gender column where that value occurs\n",
    "# and at what index ( that is, age)\n",
    "mode_male = df_analysis[gender][df_analysis[gender]==highest_observations].index[0]\n",
    "print(f\"The weighted mode age of {gender} is {mode_male}\\n\")\n",
    "\n",
    "# alternative method\n",
    "# mode_male = df_analysis[gender].idxmax()\n",
    "# print(f\"The weighted mode age of {gender} is {mode_male}\\n\")\n"
   ]
  },
  {
   "cell_type": "markdown",
   "id": "1262cf59",
   "metadata": {},
   "source": [
    "Similar to their means and medians, the most popular ages for men and women are close together, at 41 and 42.<br/>\n",
    "Interestingly, the mode ages are relatively close to the media ages, which suggests relatively similar datasets to date."
   ]
  },
  {
   "cell_type": "markdown",
   "id": "71222ebb",
   "metadata": {},
   "source": [
    "# Weighted Variance\n",
    "\n",
    "The variance tells us how dispersed the data is around the mean.<br/> \n",
    "The formula for calculating the weighted variance is as follows:<br/>\n",
    "<img src=\"https://help.altair.com/panopticon/authoring/assets/images/weighted.png\"/><br/>\n",
    "We will simplify this to variance being the AVERAGE of the square of the differences from the mean\n"
   ]
  },
  {
   "cell_type": "code",
   "execution_count": null,
   "id": "1d56b156",
   "metadata": {},
   "outputs": [],
   "source": [
    "# we have already calculated our weighted means up above\n",
    "# We can now simply use numpy to calculate the average of the squared difference from the mean\n",
    "# then divide this by the number of that gender being observed\n",
    "\n",
    "gender = headers[0]\n",
    "weighted_variance_female = np.average((df_analysis.index - weighted_mean_female)**2, weights=df_analysis[gender])\n",
    "print(f\"The weighted variance of age for {gender}s is: {round(weighted_variance_female,1)}\\n\")\n",
    "\n",
    "gender = headers[1]\n",
    "weighted_variance_male = np.average((df_analysis.index - weighted_mean_male)**2, weights=df_analysis[gender])\n",
    "print(f\"The weighted variance of age for {gender}s is: {round(weighted_variance_male,1)}\\n\")"
   ]
  },
  {
   "cell_type": "markdown",
   "id": "1c54cede",
   "metadata": {},
   "source": [
    "While the variance for females is greater than that of men, it is not by much, which definitely tells us how similar their datasets are."
   ]
  },
  {
   "cell_type": "markdown",
   "id": "825ad67b",
   "metadata": {},
   "source": [
    "# Weighted Standard Deviation\n",
    "\n",
    "One issue with variance is that its size is not denominated in the same terms as the underlying observations. This is attributable to us squaring the differentials in its calculation. Consequently, to bring it back into similar terms, we must calculate its square root, giving us a figure that we know as the standard deviation."
   ]
  },
  {
   "cell_type": "code",
   "execution_count": null,
   "id": "86eff237",
   "metadata": {},
   "outputs": [],
   "source": [
    "# we have already calculated our variances up above\n",
    "# We can now simply use numpy to calculate the square roots of the variances\n",
    "\n",
    "gender = headers[0]\n",
    "weighted_stddev_female = np.sqrt(weighted_variance_female)\n",
    "print(f\"The weighted standard deviation of age for {gender} is: {round(weighted_stddev_female,1)}\\n\")\n",
    "\n",
    "gender = headers[1]\n",
    "weighted_stddev_male = np.sqrt(weighted_variance_male)\n",
    "print(f\"The weighted standard deviation of age for {gender} is: {round(weighted_stddev_male,1)}\\n\")"
   ]
  },
  {
   "cell_type": "markdown",
   "id": "7a6854f9",
   "metadata": {},
   "source": [
    "Given how relatively similar their variances were, we expect the standard deviation of male and female ages to be similar. With a standard deviation of 22 approximately, and mean ages of 38 approximately, we can say that 95% of the population (2 standard deviations) lie in the age group of 0 to 80 which is perhaps expected given that the average life expectancy would be in the 70s."
   ]
  },
  {
   "cell_type": "markdown",
   "id": "244eb261",
   "metadata": {},
   "source": [
    "Part 2 20%\n",
    "\n",
    "In the same notebook, make a variable that stores an age (say 35).\n",
    "\n",
    "Write that code that would group the people within 5 years of that age together, into one age group \n",
    "\n",
    "- maybe make 35 the index, then use iloc of above and below that age.\n",
    "\n",
    "Calculate the population difference between the sexes in that age group.\n",
    "\n",
    "- sum up the total males and female in those rows"
   ]
  },
  {
   "cell_type": "code",
   "execution_count": null,
   "id": "c4f59161",
   "metadata": {},
   "outputs": [
    {
     "name": "stdout",
     "output_type": "stream",
     "text": [
      "Sex  level_0  index  Single Year of Age   Female     Male\n",
      "30        30     30                  30  32841.0  30858.0\n",
      "31        31     31                  31  33710.0  32237.0\n",
      "32        32     32                  32  34382.0  32413.0\n",
      "33        33     33                  33  34489.0  31888.0\n",
      "34        34     34                  34  36284.0  33121.0\n",
      "35        35     35                  35  37940.0  34695.0\n",
      "36        36     36                  36  39030.0  35828.0\n",
      "37        37     37                  37  39193.0  36427.0\n",
      "38        38     38                  38  40902.0  37513.0\n",
      "39        39     39                  39  42592.0  38749.0\n",
      "40        40     40                  40  43143.0  40301.0\n"
     ]
    }
   ],
   "source": [
    "target_age = 35\n",
    "lower_target = target_age - 5\n",
    "upper_target = target_age + 6\n",
    "\n",
    "#Group the people within 5 years of that age into one age group\n",
    "# the simplest thing for me to do is to reset the index \n",
    "# so that Single Year of Age is a column that i can manipulate\n",
    "df_analysis=df_analysis.reset_index()\n",
    "df_population_subset= df_analysis.iloc[lower_target:upper_target, :]\n",
    "print(f\"{df_population_subset}\")"
   ]
  },
  {
   "cell_type": "markdown",
   "id": "0342847e",
   "metadata": {},
   "source": [
    "# Calculating the sum of the smaller sample\n",
    "Now we can simply sum up the value in each column using the sum function."
   ]
  },
  {
   "cell_type": "code",
   "execution_count": null,
   "id": "c864841a",
   "metadata": {},
   "outputs": [
    {
     "name": "stdout",
     "output_type": "stream",
     "text": [
      "The total amount of Females in this subset is: 414506.0\n",
      "\n",
      "The total amount of Males in this subset is: 384030.0\n",
      "\n",
      "There are 30476.0 more females than males in this subsample\n"
     ]
    }
   ],
   "source": [
    "\n",
    "# sum up the females\n",
    "gender = headers[1]\n",
    "total_number_female = df_population_subset[gender].sum()\n",
    "print(f\"The total amount of {gender}s in this subset is: {total_number_female}\\n\")\n",
    "\n",
    "# sum up the males\n",
    "gender = headers[2]\n",
    "total_number_male = df_population_subset[gender].sum()\n",
    "print(f\"The total amount of {gender}s in this subset is: {total_number_male}\\n\")\n",
    "\n",
    "# Now to calculate the population difference\n",
    "if total_number_female > total_number_male:\n",
    "    print(f\"There are {(total_number_female - total_number_male)} more females than males in this subsample.\")\n",
    "else:\n",
    "    print(f\"There are {(total_number_male - total_number_female)} more males than females in this subsample.\")\n"
   ]
  },
  {
   "cell_type": "markdown",
   "id": "46cefafb",
   "metadata": {},
   "source": [
    "# Part 3 10%"
   ]
  },
  {
   "cell_type": "markdown",
   "id": "a7ee1091",
   "metadata": {},
   "source": [
    "\n",
    "\n",
    "In the same notebook.\n",
    "\n",
    "Write the code that would work out which region in Ireland has the biggest population difference between the sexes in that age group\n",
    "\n",
    "So the biggest population difference would be standard deviation. \n",
    "In English, we need the descriptive statistics for each administrative county,\n",
    "and compare them\n"
   ]
  }
 ],
 "metadata": {
  "kernelspec": {
   "display_name": "base",
   "language": "python",
   "name": "python3"
  },
  "language_info": {
   "codemirror_mode": {
    "name": "ipython",
    "version": 3
   },
   "file_extension": ".py",
   "mimetype": "text/x-python",
   "name": "python",
   "nbconvert_exporter": "python",
   "pygments_lexer": "ipython3",
   "version": "3.13.5"
  }
 },
 "nbformat": 4,
 "nbformat_minor": 5
}
