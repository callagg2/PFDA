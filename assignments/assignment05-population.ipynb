{
 "cells": [
  {
   "cell_type": "code",
   "execution_count": 1,
   "id": "80bd34d2",
   "metadata": {},
   "outputs": [],
   "source": [
    "# I will want pandas to manipulate my data\n",
    "import pandas as pd \n",
    "# I will want numpy for calculating the descriptive statistics\n",
    "import numpy as np"
   ]
  },
  {
   "cell_type": "code",
   "execution_count": 2,
   "id": "bdbec2da",
   "metadata": {},
   "outputs": [
    {
     "name": "stdout",
     "output_type": "stream",
     "text": [
      "   STATISTIC Statistic Label  TLIST(A1)  CensusYear C02199V02655         Sex  \\\n",
      "0  FY006AC01      Population       2022        2022            -  Both sexes   \n",
      "1  FY006AC01      Population       2022        2022            -  Both sexes   \n",
      "2  FY006AC01      Population       2022        2022            -  Both sexes   \n",
      "3  FY006AC01      Population       2022        2022            -  Both sexes   \n",
      "4  FY006AC01      Population       2022        2022            -  Both sexes   \n",
      "\n",
      "  C02076V03371 Single Year of Age                          C03789V04537  \\\n",
      "0            -           All ages                                   IE0   \n",
      "1            -           All ages  2ae19629-1492-13a3-e055-000000000001   \n",
      "2            -           All ages  2ae19629-1433-13a3-e055-000000000001   \n",
      "3            -           All ages  2ae19629-149f-13a3-e055-000000000001   \n",
      "4            -           All ages  2ae19629-14a0-13a3-e055-000000000001   \n",
      "\n",
      "                 Administrative Counties    UNIT    VALUE  \n",
      "0                                Ireland  Number  5149139  \n",
      "1                  Carlow County Council  Number    61968  \n",
      "2                    Dublin City Council  Number   592713  \n",
      "3  Dún Laoghaire Rathdown County Council  Number   233860  \n",
      "4                  Fingal County Council  Number   330506  \n",
      "\n"
     ]
    }
   ],
   "source": [
    "# The data is sourced from the Central Statistics Office (CSO) of Ireland\n",
    "# The dataset is titled \"Population by Age Group and Sex\"\n",
    "# The data is available in CSV format via the CSO API\n",
    "url = \"https://ws.cso.ie/public/api.restful/PxStat.Data.Cube_API.ReadDataset/FY006A/CSV/1.0/en\"\n",
    "\n",
    "# read in the data from the csv file into a pandas DataFrame\n",
    "df = pd.read_csv(url)\n",
    "\n",
    "# lets take a look at the first few rows of the DataFrame\n",
    "print(f\"{df.head()}\\n\")"
   ]
  },
  {
   "cell_type": "code",
   "execution_count": 3,
   "id": "ea120af4",
   "metadata": {},
   "outputs": [
    {
     "name": "stdout",
     "output_type": "stream",
     "text": [
      "['STATISTIC', 'Statistic Label', 'TLIST(A1)', 'CensusYear', 'C02199V02655', 'Sex', 'C02076V03371', 'Single Year of Age', 'C03789V04537', 'Administrative Counties', 'UNIT', 'VALUE']\n",
      "\n"
     ]
    }
   ],
   "source": [
    "# Lets views the column headers to see what columns we want to drop\n",
    "headers = df.columns.tolist()\n",
    "print(f\"{headers}\\n\")\n",
    "\n"
   ]
  },
  {
   "cell_type": "code",
   "execution_count": 4,
   "id": "7d2a6625",
   "metadata": {},
   "outputs": [],
   "source": [
    "# we only want data for Ireland as a whole, so let's filter the DataFrame to only include rows where the Administrative Counties column is Ireland\n",
    "df=df[df[\"Administrative Counties\"]== \"Ireland\"]\n",
    "df.to_csv(\"gender_population_for_analysis.csv\")\n"
   ]
  },
  {
   "cell_type": "code",
   "execution_count": 5,
   "id": "ab811cbf",
   "metadata": {},
   "outputs": [
    {
     "name": "stdout",
     "output_type": "stream",
     "text": [
      "['Sex', 'Single Year of Age', 'VALUE']\n",
      "\n"
     ]
    }
   ],
   "source": [
    "# so there are quite a few columns we don't need for our analysis, so let's drop them\n",
    "\n",
    "# first we create a list of the columns to drop\n",
    "drop_col_list = [\"STATISTIC\",\"Statistic Label\",\"TLIST(A1)\",\"CensusYear\",\"C02199V02655\",\"C02076V03371\",\"C03789V04537\",'Administrative Counties', \"UNIT\"]\n",
    "# then we feed the list of columns to drop into the pandas drop() method\n",
    "df.drop(columns=drop_col_list, inplace=True)\n",
    "# let's view the column headers again to confirm the columns were dropped \n",
    "headers = df.columns.tolist()\n",
    "print(f\"{headers}\\n\")\n"
   ]
  },
  {
   "cell_type": "code",
   "execution_count": 6,
   "id": "0df4f2b5",
   "metadata": {},
   "outputs": [
    {
     "name": "stdout",
     "output_type": "stream",
     "text": [
      "            Sex Single Year of Age    VALUE\n",
      "0    Both sexes           All ages  5149139\n",
      "32   Both sexes       Under 1 year    57796\n",
      "64   Both sexes             1 year    56420\n",
      "96   Both sexes            2 years    59210\n",
      "128  Both sexes            3 years    60484\n"
     ]
    }
   ],
   "source": [
    "# let's have a quick look at the first few rows of the cleaned DataFrame\n",
    "print(f\"{df.head()}\")\n",
    "df.to_csv(\"gender_population_for_analysis.csv\")  "
   ]
  },
  {
   "cell_type": "code",
   "execution_count": 7,
   "id": "03b35a9c",
   "metadata": {},
   "outputs": [
    {
     "name": "stdout",
     "output_type": "stream",
     "text": [
      "       Sex Single Year of Age    VALUE\n",
      "3264  Male           All ages  2544549\n",
      "3296  Male       Under 1 year    29610\n",
      "3328  Male             1 year    28875\n",
      "3360  Male            2 years    30236\n",
      "3392  Male            3 years    31001\n"
     ]
    }
   ],
   "source": [
    "# From our gender_population_for_analysis.csv file, we have three entries for Sex, (both sexes, male, and female) but we only want male and female,\n",
    "# so let's remove both sexes from the DataFrame \n",
    "df = df[df[\"Sex\"]!=\"Both sexes\"]\n",
    "# just to see what the first few rows look like now\n",
    "print(f\"{df.head()}\")\n",
    "#now to view that our CSV file does not include both sexes entries\n",
    "df.to_csv(\"gender_population_for_analysis.csv\")  "
   ]
  },
  {
   "cell_type": "code",
   "execution_count": 8,
   "id": "7c140352",
   "metadata": {},
   "outputs": [
    {
     "name": "stdout",
     "output_type": "stream",
     "text": [
      "       Sex Single Year of Age  VALUE\n",
      "3296  Male       Under 1 year  29610\n",
      "3328  Male             1 year  28875\n",
      "3360  Male            2 years  30236\n",
      "3392  Male            3 years  31001\n",
      "3424  Male            4 years  31686\n"
     ]
    }
   ],
   "source": [
    "## From our gender_population_for_analysis.csv file, we have entries for All ages which we do not need for our analysis\n",
    "# so let's remove all ages from the DataFrame \n",
    "df = df[df[\"Single Year of Age\"]!=\"All ages\"]\n",
    "# just to see what the first few rows look like now\n",
    "print(f\"{df.head()}\")\n",
    "#now to view that our CSV file does not include all ages\n",
    "df.to_csv(\"gender_population_for_analysis.csv\")  "
   ]
  },
  {
   "cell_type": "code",
   "execution_count": 9,
   "id": "711a6717",
   "metadata": {},
   "outputs": [
    {
     "name": "stdout",
     "output_type": "stream",
     "text": [
      "         Sex  Single Year of Age  VALUE\n",
      "9632  Female                  96    956\n",
      "9664  Female                  97    732\n",
      "9696  Female                  98    492\n",
      "9728  Female                  99    336\n",
      "9760  Female                 100    584\n",
      "\n"
     ]
    }
   ],
   "source": [
    "# we also don't want under 1 year of age, so let's convert that to 0 \n",
    "df[\"Single Year of Age\"] = df[\"Single Year of Age\"].str.replace(\"Under 1 year\",\"0\")\n",
    "\n",
    "# we also don't want over 100 year of age, so let's convert that to 100 \n",
    "df[\"Single Year of Age\"] = df[\"Single Year of Age\"].str.replace(\"100 years and over\",\"100\")\n",
    "\n",
    "# we also don't want the word years, so let's remove text in that series altogether\n",
    "df[\"Single Year of Age\"] = df[\"Single Year of Age\"].str.replace(\"\\D\", \"\", regex=True)\n",
    "\n",
    "# now we can convert the Single Year of Age column to integer data type\n",
    "df[\"Single Year of Age\"] = df[\"Single Year of Age\"].astype(\"Int64\")\n",
    "\n",
    "# and likewise with the VALUE column \n",
    "df[\"VALUE\"] = df[\"VALUE\"].astype(\"Int64\")\n",
    "\n",
    "print(f\"{df.tail()}\\n\")\n",
    "\n",
    "#now to view that our CSV file shows cleaned age data\n",
    "df.to_csv(\"gender_population_for_analysis.csv\") \n"
   ]
  },
  {
   "cell_type": "code",
   "execution_count": 10,
   "id": "eb70dfea",
   "metadata": {},
   "outputs": [
    {
     "name": "stdout",
     "output_type": "stream",
     "text": [
      "['Sex', 'Single Year of Age', 'VALUE']\n",
      "\n"
     ]
    }
   ],
   "source": [
    "headers = df.columns.tolist()\n",
    "print(f\"{headers}\\n\")"
   ]
  },
  {
   "cell_type": "code",
   "execution_count": 11,
   "id": "d2f79af4",
   "metadata": {},
   "outputs": [
    {
     "name": "stdout",
     "output_type": "stream",
     "text": [
      "Sex                  Female     Male\n",
      "Single Year of Age                  \n",
      "0                   28186.0  29610.0\n",
      "1                   27545.0  28875.0\n",
      "2                   28974.0  30236.0\n",
      "3                   29483.0  31001.0\n",
      "4                   29819.0  31686.0\n",
      "\n"
     ]
    }
   ],
   "source": [
    "# Let's create a pivot table from the cleaned DataFrame for our analysis\n",
    "\n",
    "df_analysis = pd.pivot_table(df, \"VALUE\",\"Single Year of Age\",\"Sex\")\n",
    "# let's see what the first few rows of the analysis DataFrame look like\n",
    "print(f\"{df_analysis.head(5)}\\n\")\n",
    "\n",
    "\n",
    "df_analysis.to_csv(\"gender_population_for_analysis.csv\")   \n"
   ]
  },
  {
   "cell_type": "code",
   "execution_count": 12,
   "id": "8b1f37f3",
   "metadata": {},
   "outputs": [
    {
     "name": "stdout",
     "output_type": "stream",
     "text": [
      "['Female', 'Male']\n",
      "\n"
     ]
    }
   ],
   "source": [
    "#just to list our headers in the analysis DataFrame\n",
    "headers = list(df_analysis.columns)[0:]\n",
    "print(f\"{headers}\\n\") \n",
    "# so now we know we have two possible values for columns, male an female\n"
   ]
  },
  {
   "cell_type": "code",
   "execution_count": 13,
   "id": "b0cfc7bd",
   "metadata": {},
   "outputs": [
    {
     "name": "stdout",
     "output_type": "stream",
     "text": [
      "The weighted mean age of Female is 38.9\n",
      "\n",
      "The weighted mean age of Male is 37.7\n",
      "\n"
     ]
    }
   ],
   "source": [
    "# weighted mean\n",
    "# weighted mean is sum (age * female population at age) / (female populations at age)\n",
    "\n",
    "#Let's assume we take the first column, female\n",
    "gender = headers[0]\n",
    "weighted_mean= np.average(df_analysis.index, weights=df_analysis[gender])\n",
    "print(f\"The weighted mean age of {gender} is {round(weighted_mean,1)}\\n\")\n",
    "\n",
    "gender = headers[1]\n",
    "weighted_mean= np.average(df_analysis.index, weights=df_analysis[gender])\n",
    "print(f\"The weighted mean age of {gender} is {round(weighted_mean,1)}\\n\")"
   ]
  },
  {
   "cell_type": "code",
   "execution_count": 14,
   "id": "1d815c88",
   "metadata": {},
   "outputs": [
    {
     "name": "stdout",
     "output_type": "stream",
     "text": [
      "The weighted median of Female is 39\n",
      "\n",
      "The weighted median of Male is 38\n",
      "\n"
     ]
    }
   ],
   "source": [
    "# Weighted median\n",
    "\n",
    "# the data is already sorted by age \n",
    "# df.sort_values('Single Year of Age', inplace=True)\n",
    "\n",
    "# create a series called the cumulative sum, and we find the index of the middle value\n",
    "\n",
    "#Let's assume we take the first column, female\n",
    "gender = headers[0]\n",
    "cumsum = df_analysis[gender].cumsum()\n",
    "cutoff = df_analysis[gender].sum() / 2.0\n",
    "#print(f\"The cumulative sum is: {cumsum}\\n\")\n",
    "#print(f\"The middle index is: {cutoff}\\n\")\n",
    "\n",
    "#see where the cumulative sum is greater than or equal to the cutoff\n",
    "#print(f\"{df_analysis[gender][cumsum >= cutoff]}\\n\")\n",
    "# to find the index of the first value where this is true we find the index 0 of this series\n",
    "#print(f\"{df_analysis[gender][cumsum >= cutoff].index[0]}\\n\")\n",
    "median = df_analysis[gender][cumsum >= cutoff].index[0]\n",
    "\n",
    "#median = df_analysis[\"Single Year of Age\"][cumsum >= cutoff].iloc[0]\n",
    "print(f\"The weighted median of {gender} is {median}\\n\")\n",
    "\n",
    "gender = headers[1]\n",
    "cumsum = df_analysis[gender].cumsum()\n",
    "cutoff = df_analysis[gender].sum() / 2.0\n",
    "#print(f\"The cumulative sum is: {cumsum}\\n\")\n",
    "#print(f\"The middle index is: {cutoff}\\n\")\n",
    "\n",
    "#see where the cumulative sum is greater than or equal to the cutoff\n",
    "#print(f\"{df_analysis[gender][cumsum >= cutoff]}\\n\")\n",
    "# to find the index of the first value where this is true we find the index 0 of this series\n",
    "#print(f\"{df_analysis[gender][cumsum >= cutoff].index[0]}\\n\")\n",
    "median = df_analysis[gender][cumsum >= cutoff].index[0]\n",
    "\n",
    "#median = df_analysis[\"Single Year of Age\"][cumsum >= cutoff].iloc[0]\n",
    "print(f\"The weighted median of {gender} is {median}\\n\")\n",
    "\n"
   ]
  },
  {
   "cell_type": "code",
   "execution_count": 15,
   "id": "23716da9",
   "metadata": {},
   "outputs": [
    {
     "name": "stdout",
     "output_type": "stream",
     "text": [
      "The weighted mode age of Female is 41\n",
      "\n",
      "The weighted mode age of Male is 42\n",
      "\n"
     ]
    }
   ],
   "source": [
    "gender = headers[0]\n",
    "mode = df_analysis[gender].idxmax()\n",
    "print(f\"The weighted mode age of {gender} is {mode}\\n\")\n",
    "\n",
    "gender = headers[1]\n",
    "mode = df_analysis[gender].idxmax()\n",
    "print(f\"The weighted mode age of {gender} is {mode}\\n\")\n"
   ]
  },
  {
   "cell_type": "code",
   "execution_count": 16,
   "id": "1d56b156",
   "metadata": {},
   "outputs": [
    {
     "name": "stdout",
     "output_type": "stream",
     "text": [
      "The weighted variance of age for Female is: 530.4\n",
      "\n",
      "The weighted variance of age for Male is: 514.0\n",
      "\n"
     ]
    }
   ],
   "source": [
    "# Weighted Variance\n",
    "gender = headers[0]\n",
    "w_variance_female = np.average((df_analysis.index - weighted_mean)**2, weights=df_analysis[gender])\n",
    "print(f\"The weighted variance of age for {gender} is: {round(w_variance_female,1)}\\n\")\n",
    "\n",
    "gender = headers[1]\n",
    "w_variance_male = np.average((df_analysis.index - weighted_mean)**2, weights=df_analysis[gender])\n",
    "print(f\"The weighted variance of age for {gender} is: {round(w_variance_male,1)}\\n\")"
   ]
  },
  {
   "cell_type": "code",
   "execution_count": 17,
   "id": "86eff237",
   "metadata": {},
   "outputs": [
    {
     "name": "stdout",
     "output_type": "stream",
     "text": [
      "The weighted standard deviation of age for Female is: 23.0\n",
      "\n",
      "The weighted standard deviation of age for Male is: 22.7\n",
      "\n"
     ]
    }
   ],
   "source": [
    "# Weighted Standard Deviation\n",
    "gender = headers[0]\n",
    "w_stddev_female = np.sqrt(w_variance_female)\n",
    "print(f\"The weighted standard deviation of age for {gender} is: {round(w_stddev_female,1)}\\n\")\n",
    "\n",
    "gender = headers[1]\n",
    "w_stddev_male = np.sqrt(w_variance_male)\n",
    "print(f\"The weighted standard deviation of age for {gender} is: {round(w_stddev_male,1)}\\n\")"
   ]
  },
  {
   "cell_type": "markdown",
   "id": "244eb261",
   "metadata": {},
   "source": [
    "Part 2 20%\n",
    "\n",
    "In the same notebook, make a variable that stores an age (say 35).\n",
    "\n",
    "Write that code that would group the people within 5 years of that age together, into one age group \n",
    "\n",
    "- maybe make 35 the index, then use iloc of above and below that age.\n",
    "\n",
    "Calculate the population difference between the sexes in that age group.\n",
    "\n",
    "- sum up the total males and female in those rows"
   ]
  },
  {
   "cell_type": "markdown",
   "id": "a7ee1091",
   "metadata": {},
   "source": [
    "Part 3 10%\n",
    "\n",
    "In the same notebook.\n",
    "\n",
    "Write the code that would work out which region in Ireland has the biggest population difference between the sexes in that age group\n",
    "\n",
    "So the biggest population difference would be standard deviation. \n",
    "In English, we need the descriptive statistics for each administrative county,\n",
    "and compare them\n"
   ]
  }
 ],
 "metadata": {
  "kernelspec": {
   "display_name": "base",
   "language": "python",
   "name": "python3"
  },
  "language_info": {
   "codemirror_mode": {
    "name": "ipython",
    "version": 3
   },
   "file_extension": ".py",
   "mimetype": "text/x-python",
   "name": "python",
   "nbconvert_exporter": "python",
   "pygments_lexer": "ipython3",
   "version": "3.13.5"
  }
 },
 "nbformat": 4,
 "nbformat_minor": 5
}
