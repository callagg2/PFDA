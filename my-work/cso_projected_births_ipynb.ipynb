{
 "cells": [
  {
   "cell_type": "code",
   "execution_count": 20,
   "metadata": {},
   "outputs": [],
   "source": [
    "# Projected Births\n",
    "import pandas as pd \n",
    "import numpy as np\n",
    "import matplotlib.pyplot as plt\n",
    "import os\n",
    "import csv\n",
    "import datetime as dt   \n",
    "\n",
    "\n",
    "\n"
   ]
  },
  {
   "cell_type": "code",
   "execution_count": 30,
   "metadata": {},
   "outputs": [
    {
     "name": "stdout",
     "output_type": "stream",
     "text": [
      "projectedbirth.csv already exists\n",
      "            Statistic Label  Year         Sex Criteria for Projection    UNIT  \\\n",
      "0   Projected Annual Births  2023  Both sexes             Method - M1  Number   \n",
      "1   Projected Annual Births  2024  Both sexes             Method - M1  Number   \n",
      "2   Projected Annual Births  2025  Both sexes             Method - M1  Number   \n",
      "3   Projected Annual Births  2026  Both sexes             Method - M1  Number   \n",
      "4   Projected Annual Births  2027  Both sexes             Method - M1  Number   \n",
      "5   Projected Annual Births  2028  Both sexes             Method - M1  Number   \n",
      "6   Projected Annual Births  2029  Both sexes             Method - M1  Number   \n",
      "7   Projected Annual Births  2030  Both sexes             Method - M1  Number   \n",
      "8   Projected Annual Births  2031  Both sexes             Method - M1  Number   \n",
      "9   Projected Annual Births  2032  Both sexes             Method - M1  Number   \n",
      "10  Projected Annual Births  2033  Both sexes             Method - M1  Number   \n",
      "11  Projected Annual Births  2034  Both sexes             Method - M1  Number   \n",
      "12  Projected Annual Births  2035  Both sexes             Method - M1  Number   \n",
      "13  Projected Annual Births  2036  Both sexes             Method - M1  Number   \n",
      "14  Projected Annual Births  2037  Both sexes             Method - M1  Number   \n",
      "15  Projected Annual Births  2038  Both sexes             Method - M1  Number   \n",
      "16  Projected Annual Births  2039  Both sexes             Method - M1  Number   \n",
      "17  Projected Annual Births  2040  Both sexes             Method - M1  Number   \n",
      "18  Projected Annual Births  2041  Both sexes             Method - M1  Number   \n",
      "19  Projected Annual Births  2042  Both sexes             Method - M1  Number   \n",
      "20  Projected Annual Births  2043  Both sexes             Method - M1  Number   \n",
      "21  Projected Annual Births  2044  Both sexes             Method - M1  Number   \n",
      "22  Projected Annual Births  2045  Both sexes             Method - M1  Number   \n",
      "23  Projected Annual Births  2046  Both sexes             Method - M1  Number   \n",
      "24  Projected Annual Births  2047  Both sexes             Method - M1  Number   \n",
      "25  Projected Annual Births  2048  Both sexes             Method - M1  Number   \n",
      "26  Projected Annual Births  2049  Both sexes             Method - M1  Number   \n",
      "27  Projected Annual Births  2050  Both sexes             Method - M1  Number   \n",
      "28  Projected Annual Births  2051  Both sexes             Method - M1  Number   \n",
      "29  Projected Annual Births  2052  Both sexes             Method - M1  Number   \n",
      "30  Projected Annual Births  2053  Both sexes             Method - M1  Number   \n",
      "31  Projected Annual Births  2054  Both sexes             Method - M1  Number   \n",
      "32  Projected Annual Births  2055  Both sexes             Method - M1  Number   \n",
      "33  Projected Annual Births  2056  Both sexes             Method - M1  Number   \n",
      "34  Projected Annual Births  2057  Both sexes             Method - M1  Number   \n",
      "\n",
      "    VALUE  \n",
      "0   57537  \n",
      "1   55528  \n",
      "2   55292  \n",
      "3   55032  \n",
      "4   54462  \n",
      "5   53942  \n",
      "6   53622  \n",
      "7   53476  \n",
      "8   53357  \n",
      "9   53218  \n",
      "10  53129  \n",
      "11  53194  \n",
      "12  53332  \n",
      "13  53421  \n",
      "14  53501  \n",
      "15  53499  \n",
      "16  54179  \n",
      "17  54811  \n",
      "18  55370  \n",
      "19  55890  \n",
      "20  56249  \n",
      "21  56473  \n",
      "22  56566  \n",
      "23  56568  \n",
      "24  56490  \n",
      "25  56279  \n",
      "26  55900  \n",
      "27  55432  \n",
      "28  54912  \n",
      "29  54364  \n",
      "30  53854  \n",
      "31  53360  \n",
      "32  52839  \n",
      "33  52340  \n",
      "34  51897  \n"
     ]
    },
    {
     "data": {
      "text/plain": [
       "<Axes: >"
      ]
     },
     "execution_count": 30,
     "metadata": {},
     "output_type": "execute_result"
    },
    {
     "data": {
      "image/png": "[encoded data removed]",
      "text/plain": [
       "<Figure size 640x480 with 1 Axes>"
      ]
     },
     "metadata": {},
     "output_type": "display_data"
    }
   ],
   "source": [
    "FILENAME=\"projectedbirth.csv\"\n",
    "\n",
    "\n",
    "if os.path.exists(FILENAME):\n",
    "    print (FILENAME, \"already exists\")\n",
    "else:\n",
    "    print(FILENAME, \"does not exist do you want to create it?\")\n",
    "\n",
    "\n",
    "with open(FILENAME, \"rt\") as file:\n",
    "    csvReader = csv.reader(file, delimiter = ',') # delimiter can be anything, in this case a comma\n",
    "    csv_header = next(csvReader) # this skips the header line\n",
    "   # print(csv_header)\n",
    "    \n",
    "    \n",
    "        #for line[0:] in csvReader: # line will be a list containing the variables in each line\n",
    "     #   print(file.read())  \n",
    "    #a,b,c,d,e,f = np.loadtxt(FILENAME, delimiter = ',', unpack = True) # unpack = True means that the columns are unpacked into the variables a,b,c,d,e,f\n",
    "df_sig= pd.read_csv(FILENAME, header=0, skiprows=0)\n",
    "print(df_sig)\n",
    "\n",
    "df_sig.Year.plot()\n"
   ]
  }
 ],
 "metadata": {
  "anaconda-cloud": {},
  "kernelspec": {
   "display_name": "base",
   "language": "python",
   "name": "python3"
  },
  "language_info": {
   "codemirror_mode": {
    "name": "ipython",
    "version": 3
   },
   "file_extension": ".py",
   "mimetype": "text/x-python",
   "name": "python",
   "nbconvert_exporter": "python",
   "pygments_lexer": "ipython3",
   "version": "3.13.5"
  }
 },
 "nbformat": 4,
 "nbformat_minor": 1
}
